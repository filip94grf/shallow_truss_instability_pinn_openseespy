{
 "cells": [
  {
   "cell_type": "code",
   "execution_count": 1,
   "id": "a044faf3-6ce6-4c37-8e9b-d41fa70ad79e",
   "metadata": {},
   "outputs": [
    {
     "name": "stdout",
     "output_type": "stream",
     "text": [
      "Epoch 0, Loss: 0.012967260554432869, Improvement!\n",
      "Epoch 200, Loss: 0.008456877432763577, Improvement!\n",
      "Epoch 400, Loss: 0.005650850012898445, Improvement!\n",
      "Epoch 600, Loss: 0.003872358240187168, Improvement!\n",
      "Epoch 800, Loss: 0.002696345327422023, Improvement!\n",
      "Epoch 1000, Loss: 0.001900361618027091, Improvement!\n",
      "Epoch 1200, Loss: 0.0013543459353968501, Improvement!\n",
      "Epoch 1400, Loss: 0.0009724529227241874, Improvement!\n",
      "Epoch 1600, Loss: 0.0007037542527541518, Improvement!\n",
      "Epoch 1800, Loss: 0.0005129656055942178, Improvement!\n",
      "Epoch 2000, Loss: 0.0003754747740458697, Improvement!\n",
      "Epoch 2200, Loss: 0.00027667818358168006, Improvement!\n",
      "Epoch 2400, Loss: 0.00020544898870866746, Improvement!\n",
      "Epoch 2600, Loss: 0.0001532196329208091, Improvement!\n",
      "Epoch 2800, Loss: 0.00011512089986354113, Improvement!\n",
      "Running Time:  103.52177810668945  seconds\n"
     ]
    }
   ],
   "source": [
    "import numpy as np\n",
    "import tensorflow as tf\n",
    "import matplotlib.pyplot as plt\n",
    "import math\n",
    "import pandas as pd\n",
    "import time\n",
    "\n",
    "start = time.time()\n",
    "class PINN:\n",
    "    def __init__(self, num_inputs, layers, num_outputs, E1, A1, E2, A2, h, L, beta, Ks):\n",
    "        self.model = self.build_model(num_inputs, layers, num_outputs)\n",
    "        self.E1 = E1 #kN/m2\n",
    "        self.A1 = A1 #m2\n",
    "        self.E2 = E2\n",
    "        self.A2 = A2\n",
    "        self.h = h\n",
    "        self.L = L\n",
    "        self.beta = beta #MORA NA POCETKU DA SE SRACUNA IZ GEOMETRIJE I DA SE UNESE DOLE\n",
    "        self.Ks = Ks\n",
    "\n",
    "    def build_model(self, num_inputs, layers, num_outputs):\n",
    "        activation = 'sigmoid'\n",
    "        inputs = tf.keras.layers.Input(shape=(num_inputs,))\n",
    "        x = inputs\n",
    "        for layer in layers:\n",
    "            x = tf.keras.layers.Dense(layer, activation=activation, kernel_initializer='he_normal')(x)\n",
    "        outputs = tf.keras.layers.Dense(num_outputs, kernel_initializer='he_normal')(x)\n",
    "        return tf.keras.models.Model(inputs=inputs, outputs=outputs)\n",
    "\n",
    "    def exact_solution(self, x):\n",
    "        # Compute the exact solution for the deflection of the beam\n",
    "        #SILA P\n",
    "        return self.E2*self.A2*((2*(self.L/2)*np.cos(self.beta))/(self.L*np.cos(x))-1)*(np.cos(x)*np.tan(x) + np.sin(x)) + self.Ks*(self.h - (self.L*np.tan(x)*np.tan(x))/(np.tan(x) + np.tan(x)))\n",
    "\n",
    "    def loss(self, x, y_true):\n",
    "        # Calculate the model's prediction\n",
    "        y_pred = self.model(x)\n",
    "        # Compute the loss as the mean squared error between the exact solution and the prediction\n",
    "        return tf.reduce_mean(tf.square((y_true - y_pred)/num_train_samples)) #MORA DA SE PODELI SA BROJEM UZORKA DA BUDE MSE GRESKA\n",
    "\n",
    "    def train(self, x_train, y_train, epochs, optimizer):\n",
    "        best_loss = np.inf\n",
    "        patience = 30  # Number of epochs to wait for improvement\n",
    "        patience_counter = 0  # Counter to track epochs since last improvement\n",
    "        \n",
    "        for epoch in range(epochs):\n",
    "            with tf.GradientTape() as tape:\n",
    "                loss_value = self.loss(x_train, y_train)\n",
    "            grads = tape.gradient(loss_value, self.model.trainable_variables)\n",
    "            optimizer.apply_gradients(zip(grads, self.model.trainable_variables))\n",
    "        \n",
    "        # Early stopping logic\n",
    "            if loss_value < best_loss:\n",
    "                best_loss = loss_value\n",
    "                patience_counter = 0  # Reset counter\n",
    "                if epoch % 200 == 0:\n",
    "                    print(f\"Epoch {epoch}, Loss: {loss_value.numpy()}, Improvement!\")\n",
    "            else:\n",
    "                patience_counter += 1\n",
    "                if epoch % 200 == 0:\n",
    "                    print(f\"Epoch {epoch}, Loss: {loss_value.numpy()}, No improvement for {patience_counter} epochs.\")\n",
    "                \n",
    "            if patience_counter >= patience:\n",
    "                print(f\"Stopping early after {epoch+1} epochs.\")\n",
    "    \n",
    "    def update_parameters(self, E1, A1, E2, A2, L, h, Ks):\n",
    "        # Update the physical parameters\n",
    "        self.E1 = E1\n",
    "        self.A1 = A1\n",
    "        self.E2 = E2\n",
    "        self.A2 = A2\n",
    "        self.L = L\n",
    "        self.h = h\n",
    "        self.Ks = Ks\n",
    "        \n",
    "    def predict(self, x_new):\n",
    "        # Use the trained model to predict the output for new input values\n",
    "        return self.model.predict(x_new)\n",
    "\n",
    "# Example usage\n",
    "num_inputs = 1  # Assuming a single input feature for simplicity\n",
    "layers = [40, 40, 40]  # Two hidden layers with 64 units each\n",
    "num_outputs = 1  # Single output unit\n",
    "E1, A1, E2, A2, h, L, beta, Ks = 2500000, 0.01, 2500000, 0.01, 1.0, 16.0, 0.124354994546761, 0\n",
    "num_train_samples = 10000\n",
    "\n",
    "# Create training data\n",
    "#L_prim = np.sqrt((L/2)**2+h**2)\n",
    "#beta_0 = np.arctan(h/L_prim)\n",
    "step = beta/10\n",
    "#x_train = np.arange(beta, -1.5*beta, -step)\n",
    "x_train = 0.5*np.random.uniform(-1, 1, num_train_samples).reshape(-1, 1) #VRLO BITAN RESHAPE NA 1D NIZ ZA PINN - PAZLJIVO SA GRANICAMAAA\n",
    "#x_train = -2.5 * np.random.rand(num_train_samples, 1)  # Random values\n",
    "\n",
    "# Initialize the PINN model\n",
    "pinn = PINN(num_inputs, layers, num_outputs, E1, A1, E2, A2, h, L, beta, Ks)\n",
    "\n",
    "# Calculate the exact solution for the training data\n",
    "y_train = pinn.exact_solution(x_train)\n",
    "\n",
    "# Train the model\n",
    "optimizer = tf.keras.optimizers.Adam(learning_rate=0.1)\n",
    "pinn.train(x_train, y_train, epochs=3000, optimizer=optimizer)\n",
    "\n",
    "end = time.time()\n",
    "running_time = (end - start)\n",
    "print('Running Time: ', running_time, ' seconds')"
   ]
  },
  {
   "cell_type": "code",
   "execution_count": 2,
   "id": "000371a4-d84b-499a-91ca-1192cdf78a33",
   "metadata": {},
   "outputs": [
    {
     "name": "stdout",
     "output_type": "stream",
     "text": [
      "313/313 [==============================] - 0s 854us/step\n"
     ]
    },
    {
     "data": {
      "image/png": "[encoded data removed]",
      "text/plain": [
       "<Figure size 720x432 with 1 Axes>"
      ]
     },
     "metadata": {
      "needs_background": "light"
     },
     "output_type": "display_data"
    }
   ],
   "source": [
    "import matplotlib.pyplot as plt\n",
    "import numpy as np\n",
    "\n",
    "# Generate points along the beam's length\n",
    "x_plot = np.linspace(0, -2.5, num_train_samples).reshape(-1, 1)  # 1000 points from 0 to L\n",
    "angle_za_exact = np.linspace(beta, -1.5*beta, num_train_samples).reshape(-1, 1)\n",
    "# Calculate the exact solutions for these points\n",
    "y_exact = pinn.exact_solution(angle_za_exact)\n",
    "\n",
    "# Use the trained model to predict displacements at these points\n",
    "y_pred = pinn.model.predict(angle_za_exact)\n",
    "\n",
    "# Plotting\n",
    "plt.figure(figsize=(10, 6))\n",
    "plt.plot(abs(x_plot), -y_exact, label='Analytical (closed-form) solution', color='blue', linestyle='--')\n",
    "plt.plot(abs(x_plot), -y_pred, label='PINN solution', color='red', linestyle='-')\n",
    "plt.xlabel('Top Node Displacement [m]')\n",
    "plt.ylabel('Vertical Load (P) [kN]')\n",
    "plt.title('Comparison of Predicted and Analytical Displacements')\n",
    "plt.legend()\n",
    "plt.grid(True)\n",
    "plt.show()"
   ]
  },
  {
   "cell_type": "code",
   "execution_count": 3,
   "id": "d0063f7f-4ddc-470c-b23d-dff43ca79272",
   "metadata": {},
   "outputs": [],
   "source": [
    "x_plot = pd.DataFrame(x_plot)\n",
    "x_plot.to_excel(\"Shallow Truss POMERANJE Ks=0.xlsx\")\n",
    "\n",
    "y_exact = pd.DataFrame(y_exact)\n",
    "y_exact.to_excel(\"Shallow Truss SILA EXACT Ks=0.xlsx\") \n",
    "\n",
    "y_pred = pd.DataFrame(y_pred)\n",
    "y_pred.to_excel(\"Shallow Truss SILA PINN Ks=0.xlsx\") "
   ]
  },
  {
   "cell_type": "code",
   "execution_count": 6,
   "id": "e2829fef-2e3d-4ac9-b83e-dc30636bad5a",
   "metadata": {},
   "outputs": [
    {
     "name": "stdout",
     "output_type": "stream",
     "text": [
      "16/16 [==============================] - 0s 1ms/step\n"
     ]
    },
    {
     "data": {
      "image/png": "[encoded data removed]",
      "text/plain": [
       "<Figure size 720x432 with 1 Axes>"
      ]
     },
     "metadata": {
      "needs_background": "light"
     },
     "output_type": "display_data"
    }
   ],
   "source": [
    "#TESTIRANJEEEEE - MOZDA ZEZNUTO U TEST FAZI MENJATI I MATERIJALNE KARAKTERISTIKE - ZATO CE NACIONALNA AI PLATFORMA DA UBRZA SVE\n",
    "new_E1, new_A1, new_E2, new_A2, new_L, new_h, new_Ks = 3000000, 0.02, 3000000, 0.02, 20.0, 1.5, 0\n",
    "\n",
    "# Update the model with new physical parameters\n",
    "pinn.update_parameters(new_E1, new_A1, new_E2, new_A2, new_L, new_h, new_Ks)\n",
    "\n",
    "# Continue with generating new input samples and predicting as previously shown\n",
    "num_test_samples = 10000\n",
    "x_test = 0.5*np.random.uniform(-1, 1, 500).reshape(-1, 1)\n",
    "y_pred = pinn.predict(x_test)\n",
    "x_plot = np.linspace(0, -2.5, 500).reshape(-1, 1)\n",
    "# Visualization of the results\n",
    "plt.figure(figsize=(10, 6))\n",
    "plt.scatter(abs(x_plot), y_pred, color='r', label='Predicted Outputs with Updated Parameters')\n",
    "plt.title('Predicted Outputs for New Input Samples with Updated Parameters')\n",
    "plt.xlabel('Input Values')\n",
    "plt.ylabel('Predicted Output')\n",
    "plt.legend()\n",
    "plt.show()"
   ]
  },
  {
   "cell_type": "code",
   "execution_count": null,
   "id": "f5f7ec03-8655-4749-8ca0-a5fe699eaec0",
   "metadata": {},
   "outputs": [],
   "source": [
    "import pandas as pd\n",
    "x_train\n",
    "x_train = pd.DataFrame(x_train)\n",
    "x_train.to_excel(\"trening set PINN.xlsx\") "
   ]
  },
  {
   "cell_type": "code",
   "execution_count": null,
   "id": "801713ef-3342-4afa-b760-56a1fa4d1582",
   "metadata": {},
   "outputs": [],
   "source": [
    "E = 2500000\n",
    "A = 0.01\n",
    "ks=E*A*h**2/(2*L**3) #IZ CRISFIELD KNJIGE NA POCETKU NAPISANE FORMULE NA KRIVAMA"
   ]
  },
  {
   "cell_type": "code",
   "execution_count": null,
   "id": "f1c25cf7-20d3-4468-8b1d-f0bfa16bd91e",
   "metadata": {},
   "outputs": [],
   "source": [
    "ks"
   ]
  },
  {
   "cell_type": "code",
   "execution_count": null,
   "id": "b381a57d-1f3d-4230-8c85-6a631cb42d0c",
   "metadata": {
    "jp-MarkdownHeadingCollapsed": true,
    "tags": []
   },
   "outputs": [],
   "source": [
    "ks1=1.3*E*A*h**2/(2*L**3) #IZ CRISFIELD KNJIGE NA POCETKU NAPISANE FORMULE NA KRIVAMA"
   ]
  },
  {
   "cell_type": "code",
   "execution_count": null,
   "id": "6220ad9f-dd5f-4ade-8343-6b5732d85b02",
   "metadata": {},
   "outputs": [],
   "source": [
    "ks1"
   ]
  },
  {
   "cell_type": "code",
   "execution_count": null,
   "id": "1a6c8c0f-b582-4b71-b647-75284c523a96",
   "metadata": {},
   "outputs": [],
   "source": [
    "-y_pred"
   ]
  },
  {
   "cell_type": "code",
   "execution_count": null,
   "id": "4607c999-913a-4b6d-bf98-cac114674520",
   "metadata": {},
   "outputs": [],
   "source": [
    "-y_exact"
   ]
  },
  {
   "cell_type": "code",
   "execution_count": null,
   "id": "b9b3f8dc-48ee-4186-afcb-607ac5f35301",
   "metadata": {},
   "outputs": [],
   "source": [
    "#PRERACUNAVANJE KRUTOSTI OPRUGA\n",
    "#KAD ZNAM ks A TRAZIM BEZDIMENZIONALNI\n",
    "ks = 1.35 #N/m\n",
    "Ku = ks*h/(E1*A1*(math.sin(beta)**3)) #IZ RADA KOJI NE DELI KODOVE"
   ]
  },
  {
   "cell_type": "code",
   "execution_count": null,
   "id": "74b4fa4e-3653-453c-a071-4cdb3069c5f5",
   "metadata": {},
   "outputs": [],
   "source": [
    "Ku"
   ]
  },
  {
   "cell_type": "code",
   "execution_count": null,
   "id": "1b05a9ec-035c-40a4-bc44-12b2ee4d286f",
   "metadata": {},
   "outputs": [],
   "source": [
    "#KAD ZNAM BEZDIMENZIONALNI A TRAZIM ks\n",
    "Ku = 1.2 #bezdimenzionalno\n",
    "ks = Ku*E1*A1*(math.sin(beta)**3)/h #PRERACUNATO IZ GORNJE FORMULE IZ RADA 74 KOJI NE DELI KODOVE"
   ]
  },
  {
   "cell_type": "code",
   "execution_count": null,
   "id": "c02c3c5a-39a0-4fbb-be7e-8393c58c7545",
   "metadata": {},
   "outputs": [],
   "source": [
    "ks #kN/m"
   ]
  }
 ],
 "metadata": {
  "kernelspec": {
   "display_name": "Python 3 (ipykernel)",
   "language": "python",
   "name": "python3"
  },
  "language_info": {
   "codemirror_mode": {
    "name": "ipython",
    "version": 3
   },
   "file_extension": ".py",
   "mimetype": "text/x-python",
   "name": "python",
   "nbconvert_exporter": "python",
   "pygments_lexer": "ipython3",
   "version": "3.9.12"
  }
 },
 "nbformat": 4,
 "nbformat_minor": 5
}
